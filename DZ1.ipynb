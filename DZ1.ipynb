{
  "nbformat": 4,
  "nbformat_minor": 0,
  "metadata": {
    "colab": {
      "provenance": []
    },
    "kernelspec": {
      "name": "python3",
      "display_name": "Python 3"
    },
    "language_info": {
      "name": "python"
    }
  },
  "cells": [
    {
      "cell_type": "code",
      "execution_count": null,
      "metadata": {
        "colab": {
          "base_uri": "https://localhost:8080/"
        },
        "id": "qt6ROHS22Aby",
        "outputId": "01721e23-e88c-40a1-a642-a7a9fe92b9dd"
      },
      "outputs": [
        {
          "output_type": "execute_result",
          "data": {
            "text/plain": [
              "matrix([[10]])"
            ]
          },
          "metadata": {},
          "execution_count": 3
        }
      ],
      "source": [
        "import numpy as np\n",
        "A = np.matrix([6, -8, 3])\n",
        "B = np.matrix([[1],\n",
        "               [1],\n",
        "               [4]])\n",
        "A*B\n"
      ]
    },
    {
      "cell_type": "markdown",
      "source": [
        "Умножаем последовательно первую строку первой матрицы на первый столбец второй матрицы. a11*b11+a12*b21+a13*b31. Ответом будет являться число 10"
      ],
      "metadata": {
        "id": "JAL8wxJr3lus"
      }
    },
    {
      "cell_type": "code",
      "source": [
        "C = np.matrix([[3, -7],\n",
        "               [-10, 6],\n",
        "               [0, -6],\n",
        "               [-1, -3]])\n",
        "D = np.matrix([[-8, 9],\n",
        "               [4, -2]])\n",
        "C*D"
      ],
      "metadata": {
        "colab": {
          "base_uri": "https://localhost:8080/"
        },
        "id": "r-q0vxJs3r3k",
        "outputId": "5f4e8781-eedf-4696-abec-291175cec564"
      },
      "execution_count": null,
      "outputs": [
        {
          "output_type": "execute_result",
          "data": {
            "text/plain": [
              "matrix([[ -52,   41],\n",
              "        [ 104, -102],\n",
              "        [ -24,   12],\n",
              "        [  -4,   -3]])"
            ]
          },
          "metadata": {},
          "execution_count": 6
        }
      ]
    },
    {
      "cell_type": "markdown",
      "source": [
        "Получилась матрица, каждый элемент которой получен путем умножения строк первой матрицы на столбцы второй матрицы"
      ],
      "metadata": {
        "id": "GjFA3gc85hs8"
      }
    }
  ]
}